{
 "cells": [
  {
   "cell_type": "code",
   "execution_count": 1,
   "id": "ae5179a0",
   "metadata": {
    "_cell_guid": "b1076dfc-b9ad-4769-8c92-a6c4dae69d19",
    "_uuid": "8f2839f25d086af736a60e9eeb907d3b93b6e0e5",
    "execution": {
     "iopub.execute_input": "2024-01-27T18:16:44.864362Z",
     "iopub.status.busy": "2024-01-27T18:16:44.863689Z",
     "iopub.status.idle": "2024-01-27T18:16:46.447114Z",
     "shell.execute_reply": "2024-01-27T18:16:46.445891Z"
    },
    "papermill": {
     "duration": 1.601597,
     "end_time": "2024-01-27T18:16:46.449498",
     "exception": false,
     "start_time": "2024-01-27T18:16:44.847901",
     "status": "completed"
    },
    "tags": []
   },
   "outputs": [
    {
     "name": "stdout",
     "output_type": "stream",
     "text": [
      "/kaggle/input/creditcardfraud/creditcard.csv\n"
     ]
    }
   ],
   "source": [
    "import numpy as np\n",
    "import pandas as pd\n",
    "import matplotlib.pyplot as plt\n",
    "import seaborn as sns\n",
    "\n",
    "import os\n",
    "for dirname, _, filenames in os.walk('/kaggle/input'):\n",
    "    for filename in filenames:\n",
    "        print(os.path.join(dirname, filename))"
   ]
  },
  {
   "cell_type": "markdown",
   "id": "bd08824e",
   "metadata": {
    "papermill": {
     "duration": 0.013796,
     "end_time": "2024-01-27T18:16:46.477201",
     "exception": false,
     "start_time": "2024-01-27T18:16:46.463405",
     "status": "completed"
    },
    "tags": []
   },
   "source": [
    "# Importing Data"
   ]
  },
  {
   "cell_type": "code",
   "execution_count": 2,
   "id": "8bae26bf",
   "metadata": {
    "execution": {
     "iopub.execute_input": "2024-01-27T18:16:46.506208Z",
     "iopub.status.busy": "2024-01-27T18:16:46.505642Z",
     "iopub.status.idle": "2024-01-27T18:16:51.450802Z",
     "shell.execute_reply": "2024-01-27T18:16:51.449379Z"
    },
    "papermill": {
     "duration": 4.963169,
     "end_time": "2024-01-27T18:16:51.454044",
     "exception": false,
     "start_time": "2024-01-27T18:16:46.490875",
     "status": "completed"
    },
    "tags": []
   },
   "outputs": [],
   "source": [
    "df = pd.read_csv('/kaggle/input/creditcardfraud/creditcard.csv')"
   ]
  },
  {
   "cell_type": "code",
   "execution_count": 3,
   "id": "97a5e2d4",
   "metadata": {
    "execution": {
     "iopub.execute_input": "2024-01-27T18:16:51.483998Z",
     "iopub.status.busy": "2024-01-27T18:16:51.483605Z",
     "iopub.status.idle": "2024-01-27T18:16:51.529464Z",
     "shell.execute_reply": "2024-01-27T18:16:51.528310Z"
    },
    "papermill": {
     "duration": 0.06389,
     "end_time": "2024-01-27T18:16:51.532207",
     "exception": false,
     "start_time": "2024-01-27T18:16:51.468317",
     "status": "completed"
    },
    "tags": []
   },
   "outputs": [
    {
     "data": {
      "text/html": [
       "<div>\n",
       "<style scoped>\n",
       "    .dataframe tbody tr th:only-of-type {\n",
       "        vertical-align: middle;\n",
       "    }\n",
       "\n",
       "    .dataframe tbody tr th {\n",
       "        vertical-align: top;\n",
       "    }\n",
       "\n",
       "    .dataframe thead th {\n",
       "        text-align: right;\n",
       "    }\n",
       "</style>\n",
       "<table border=\"1\" class=\"dataframe\">\n",
       "  <thead>\n",
       "    <tr style=\"text-align: right;\">\n",
       "      <th></th>\n",
       "      <th>Time</th>\n",
       "      <th>V1</th>\n",
       "      <th>V2</th>\n",
       "      <th>V3</th>\n",
       "      <th>V4</th>\n",
       "      <th>V5</th>\n",
       "      <th>V6</th>\n",
       "      <th>V7</th>\n",
       "      <th>V8</th>\n",
       "      <th>V9</th>\n",
       "      <th>...</th>\n",
       "      <th>V21</th>\n",
       "      <th>V22</th>\n",
       "      <th>V23</th>\n",
       "      <th>V24</th>\n",
       "      <th>V25</th>\n",
       "      <th>V26</th>\n",
       "      <th>V27</th>\n",
       "      <th>V28</th>\n",
       "      <th>Amount</th>\n",
       "      <th>Class</th>\n",
       "    </tr>\n",
       "  </thead>\n",
       "  <tbody>\n",
       "    <tr>\n",
       "      <th>0</th>\n",
       "      <td>0.0</td>\n",
       "      <td>-1.359807</td>\n",
       "      <td>-0.072781</td>\n",
       "      <td>2.536347</td>\n",
       "      <td>1.378155</td>\n",
       "      <td>-0.338321</td>\n",
       "      <td>0.462388</td>\n",
       "      <td>0.239599</td>\n",
       "      <td>0.098698</td>\n",
       "      <td>0.363787</td>\n",
       "      <td>...</td>\n",
       "      <td>-0.018307</td>\n",
       "      <td>0.277838</td>\n",
       "      <td>-0.110474</td>\n",
       "      <td>0.066928</td>\n",
       "      <td>0.128539</td>\n",
       "      <td>-0.189115</td>\n",
       "      <td>0.133558</td>\n",
       "      <td>-0.021053</td>\n",
       "      <td>149.62</td>\n",
       "      <td>0</td>\n",
       "    </tr>\n",
       "    <tr>\n",
       "      <th>1</th>\n",
       "      <td>0.0</td>\n",
       "      <td>1.191857</td>\n",
       "      <td>0.266151</td>\n",
       "      <td>0.166480</td>\n",
       "      <td>0.448154</td>\n",
       "      <td>0.060018</td>\n",
       "      <td>-0.082361</td>\n",
       "      <td>-0.078803</td>\n",
       "      <td>0.085102</td>\n",
       "      <td>-0.255425</td>\n",
       "      <td>...</td>\n",
       "      <td>-0.225775</td>\n",
       "      <td>-0.638672</td>\n",
       "      <td>0.101288</td>\n",
       "      <td>-0.339846</td>\n",
       "      <td>0.167170</td>\n",
       "      <td>0.125895</td>\n",
       "      <td>-0.008983</td>\n",
       "      <td>0.014724</td>\n",
       "      <td>2.69</td>\n",
       "      <td>0</td>\n",
       "    </tr>\n",
       "    <tr>\n",
       "      <th>2</th>\n",
       "      <td>1.0</td>\n",
       "      <td>-1.358354</td>\n",
       "      <td>-1.340163</td>\n",
       "      <td>1.773209</td>\n",
       "      <td>0.379780</td>\n",
       "      <td>-0.503198</td>\n",
       "      <td>1.800499</td>\n",
       "      <td>0.791461</td>\n",
       "      <td>0.247676</td>\n",
       "      <td>-1.514654</td>\n",
       "      <td>...</td>\n",
       "      <td>0.247998</td>\n",
       "      <td>0.771679</td>\n",
       "      <td>0.909412</td>\n",
       "      <td>-0.689281</td>\n",
       "      <td>-0.327642</td>\n",
       "      <td>-0.139097</td>\n",
       "      <td>-0.055353</td>\n",
       "      <td>-0.059752</td>\n",
       "      <td>378.66</td>\n",
       "      <td>0</td>\n",
       "    </tr>\n",
       "    <tr>\n",
       "      <th>3</th>\n",
       "      <td>1.0</td>\n",
       "      <td>-0.966272</td>\n",
       "      <td>-0.185226</td>\n",
       "      <td>1.792993</td>\n",
       "      <td>-0.863291</td>\n",
       "      <td>-0.010309</td>\n",
       "      <td>1.247203</td>\n",
       "      <td>0.237609</td>\n",
       "      <td>0.377436</td>\n",
       "      <td>-1.387024</td>\n",
       "      <td>...</td>\n",
       "      <td>-0.108300</td>\n",
       "      <td>0.005274</td>\n",
       "      <td>-0.190321</td>\n",
       "      <td>-1.175575</td>\n",
       "      <td>0.647376</td>\n",
       "      <td>-0.221929</td>\n",
       "      <td>0.062723</td>\n",
       "      <td>0.061458</td>\n",
       "      <td>123.50</td>\n",
       "      <td>0</td>\n",
       "    </tr>\n",
       "    <tr>\n",
       "      <th>4</th>\n",
       "      <td>2.0</td>\n",
       "      <td>-1.158233</td>\n",
       "      <td>0.877737</td>\n",
       "      <td>1.548718</td>\n",
       "      <td>0.403034</td>\n",
       "      <td>-0.407193</td>\n",
       "      <td>0.095921</td>\n",
       "      <td>0.592941</td>\n",
       "      <td>-0.270533</td>\n",
       "      <td>0.817739</td>\n",
       "      <td>...</td>\n",
       "      <td>-0.009431</td>\n",
       "      <td>0.798278</td>\n",
       "      <td>-0.137458</td>\n",
       "      <td>0.141267</td>\n",
       "      <td>-0.206010</td>\n",
       "      <td>0.502292</td>\n",
       "      <td>0.219422</td>\n",
       "      <td>0.215153</td>\n",
       "      <td>69.99</td>\n",
       "      <td>0</td>\n",
       "    </tr>\n",
       "  </tbody>\n",
       "</table>\n",
       "<p>5 rows × 31 columns</p>\n",
       "</div>"
      ],
      "text/plain": [
       "   Time        V1        V2        V3        V4        V5        V6        V7  \\\n",
       "0   0.0 -1.359807 -0.072781  2.536347  1.378155 -0.338321  0.462388  0.239599   \n",
       "1   0.0  1.191857  0.266151  0.166480  0.448154  0.060018 -0.082361 -0.078803   \n",
       "2   1.0 -1.358354 -1.340163  1.773209  0.379780 -0.503198  1.800499  0.791461   \n",
       "3   1.0 -0.966272 -0.185226  1.792993 -0.863291 -0.010309  1.247203  0.237609   \n",
       "4   2.0 -1.158233  0.877737  1.548718  0.403034 -0.407193  0.095921  0.592941   \n",
       "\n",
       "         V8        V9  ...       V21       V22       V23       V24       V25  \\\n",
       "0  0.098698  0.363787  ... -0.018307  0.277838 -0.110474  0.066928  0.128539   \n",
       "1  0.085102 -0.255425  ... -0.225775 -0.638672  0.101288 -0.339846  0.167170   \n",
       "2  0.247676 -1.514654  ...  0.247998  0.771679  0.909412 -0.689281 -0.327642   \n",
       "3  0.377436 -1.387024  ... -0.108300  0.005274 -0.190321 -1.175575  0.647376   \n",
       "4 -0.270533  0.817739  ... -0.009431  0.798278 -0.137458  0.141267 -0.206010   \n",
       "\n",
       "        V26       V27       V28  Amount  Class  \n",
       "0 -0.189115  0.133558 -0.021053  149.62      0  \n",
       "1  0.125895 -0.008983  0.014724    2.69      0  \n",
       "2 -0.139097 -0.055353 -0.059752  378.66      0  \n",
       "3 -0.221929  0.062723  0.061458  123.50      0  \n",
       "4  0.502292  0.219422  0.215153   69.99      0  \n",
       "\n",
       "[5 rows x 31 columns]"
      ]
     },
     "execution_count": 3,
     "metadata": {},
     "output_type": "execute_result"
    }
   ],
   "source": [
    "df.head()"
   ]
  },
  {
   "cell_type": "code",
   "execution_count": 4,
   "id": "5cf7f0ec",
   "metadata": {
    "execution": {
     "iopub.execute_input": "2024-01-27T18:16:51.563526Z",
     "iopub.status.busy": "2024-01-27T18:16:51.563157Z",
     "iopub.status.idle": "2024-01-27T18:16:51.688877Z",
     "shell.execute_reply": "2024-01-27T18:16:51.687558Z"
    },
    "papermill": {
     "duration": 0.14486,
     "end_time": "2024-01-27T18:16:51.691545",
     "exception": false,
     "start_time": "2024-01-27T18:16:51.546685",
     "status": "completed"
    },
    "tags": []
   },
   "outputs": [
    {
     "name": "stdout",
     "output_type": "stream",
     "text": [
      "<class 'pandas.core.frame.DataFrame'>\n",
      "RangeIndex: 284807 entries, 0 to 284806\n",
      "Data columns (total 31 columns):\n",
      " #   Column  Non-Null Count   Dtype  \n",
      "---  ------  --------------   -----  \n",
      " 0   Time    284807 non-null  float64\n",
      " 1   V1      284807 non-null  float64\n",
      " 2   V2      284807 non-null  float64\n",
      " 3   V3      284807 non-null  float64\n",
      " 4   V4      284807 non-null  float64\n",
      " 5   V5      284807 non-null  float64\n",
      " 6   V6      284807 non-null  float64\n",
      " 7   V7      284807 non-null  float64\n",
      " 8   V8      284807 non-null  float64\n",
      " 9   V9      284807 non-null  float64\n",
      " 10  V10     284807 non-null  float64\n",
      " 11  V11     284807 non-null  float64\n",
      " 12  V12     284807 non-null  float64\n",
      " 13  V13     284807 non-null  float64\n",
      " 14  V14     284807 non-null  float64\n",
      " 15  V15     284807 non-null  float64\n",
      " 16  V16     284807 non-null  float64\n",
      " 17  V17     284807 non-null  float64\n",
      " 18  V18     284807 non-null  float64\n",
      " 19  V19     284807 non-null  float64\n",
      " 20  V20     284807 non-null  float64\n",
      " 21  V21     284807 non-null  float64\n",
      " 22  V22     284807 non-null  float64\n",
      " 23  V23     284807 non-null  float64\n",
      " 24  V24     284807 non-null  float64\n",
      " 25  V25     284807 non-null  float64\n",
      " 26  V26     284807 non-null  float64\n",
      " 27  V27     284807 non-null  float64\n",
      " 28  V28     284807 non-null  float64\n",
      " 29  Amount  284807 non-null  float64\n",
      " 30  Class   284807 non-null  int64  \n",
      "dtypes: float64(30), int64(1)\n",
      "memory usage: 67.4 MB\n"
     ]
    }
   ],
   "source": [
    "df.info()"
   ]
  },
  {
   "cell_type": "markdown",
   "id": "84fdad55",
   "metadata": {
    "papermill": {
     "duration": 0.014064,
     "end_time": "2024-01-27T18:16:51.721105",
     "exception": false,
     "start_time": "2024-01-27T18:16:51.707041",
     "status": "completed"
    },
    "tags": []
   },
   "source": [
    "> we've found that no column is object and ther is no missing data and there are (284807 rows) and (31 columns)"
   ]
  },
  {
   "cell_type": "code",
   "execution_count": 5,
   "id": "5780199b",
   "metadata": {
    "execution": {
     "iopub.execute_input": "2024-01-27T18:16:51.752087Z",
     "iopub.status.busy": "2024-01-27T18:16:51.751557Z",
     "iopub.status.idle": "2024-01-27T18:16:52.239800Z",
     "shell.execute_reply": "2024-01-27T18:16:52.238628Z"
    },
    "papermill": {
     "duration": 0.506636,
     "end_time": "2024-01-27T18:16:52.242112",
     "exception": false,
     "start_time": "2024-01-27T18:16:51.735476",
     "status": "completed"
    },
    "tags": []
   },
   "outputs": [
    {
     "data": {
      "text/html": [
       "<div>\n",
       "<style scoped>\n",
       "    .dataframe tbody tr th:only-of-type {\n",
       "        vertical-align: middle;\n",
       "    }\n",
       "\n",
       "    .dataframe tbody tr th {\n",
       "        vertical-align: top;\n",
       "    }\n",
       "\n",
       "    .dataframe thead th {\n",
       "        text-align: right;\n",
       "    }\n",
       "</style>\n",
       "<table border=\"1\" class=\"dataframe\">\n",
       "  <thead>\n",
       "    <tr style=\"text-align: right;\">\n",
       "      <th></th>\n",
       "      <th>Time</th>\n",
       "      <th>V1</th>\n",
       "      <th>V2</th>\n",
       "      <th>V3</th>\n",
       "      <th>V4</th>\n",
       "      <th>V5</th>\n",
       "      <th>V6</th>\n",
       "      <th>V7</th>\n",
       "      <th>V8</th>\n",
       "      <th>V9</th>\n",
       "      <th>...</th>\n",
       "      <th>V21</th>\n",
       "      <th>V22</th>\n",
       "      <th>V23</th>\n",
       "      <th>V24</th>\n",
       "      <th>V25</th>\n",
       "      <th>V26</th>\n",
       "      <th>V27</th>\n",
       "      <th>V28</th>\n",
       "      <th>Amount</th>\n",
       "      <th>Class</th>\n",
       "    </tr>\n",
       "  </thead>\n",
       "  <tbody>\n",
       "    <tr>\n",
       "      <th>count</th>\n",
       "      <td>284807.000000</td>\n",
       "      <td>2.848070e+05</td>\n",
       "      <td>2.848070e+05</td>\n",
       "      <td>2.848070e+05</td>\n",
       "      <td>2.848070e+05</td>\n",
       "      <td>2.848070e+05</td>\n",
       "      <td>2.848070e+05</td>\n",
       "      <td>2.848070e+05</td>\n",
       "      <td>2.848070e+05</td>\n",
       "      <td>2.848070e+05</td>\n",
       "      <td>...</td>\n",
       "      <td>2.848070e+05</td>\n",
       "      <td>2.848070e+05</td>\n",
       "      <td>2.848070e+05</td>\n",
       "      <td>2.848070e+05</td>\n",
       "      <td>2.848070e+05</td>\n",
       "      <td>2.848070e+05</td>\n",
       "      <td>2.848070e+05</td>\n",
       "      <td>2.848070e+05</td>\n",
       "      <td>284807.000000</td>\n",
       "      <td>284807.000000</td>\n",
       "    </tr>\n",
       "    <tr>\n",
       "      <th>mean</th>\n",
       "      <td>94813.859575</td>\n",
       "      <td>1.168375e-15</td>\n",
       "      <td>3.416908e-16</td>\n",
       "      <td>-1.379537e-15</td>\n",
       "      <td>2.074095e-15</td>\n",
       "      <td>9.604066e-16</td>\n",
       "      <td>1.487313e-15</td>\n",
       "      <td>-5.556467e-16</td>\n",
       "      <td>1.213481e-16</td>\n",
       "      <td>-2.406331e-15</td>\n",
       "      <td>...</td>\n",
       "      <td>1.654067e-16</td>\n",
       "      <td>-3.568593e-16</td>\n",
       "      <td>2.578648e-16</td>\n",
       "      <td>4.473266e-15</td>\n",
       "      <td>5.340915e-16</td>\n",
       "      <td>1.683437e-15</td>\n",
       "      <td>-3.660091e-16</td>\n",
       "      <td>-1.227390e-16</td>\n",
       "      <td>88.349619</td>\n",
       "      <td>0.001727</td>\n",
       "    </tr>\n",
       "    <tr>\n",
       "      <th>std</th>\n",
       "      <td>47488.145955</td>\n",
       "      <td>1.958696e+00</td>\n",
       "      <td>1.651309e+00</td>\n",
       "      <td>1.516255e+00</td>\n",
       "      <td>1.415869e+00</td>\n",
       "      <td>1.380247e+00</td>\n",
       "      <td>1.332271e+00</td>\n",
       "      <td>1.237094e+00</td>\n",
       "      <td>1.194353e+00</td>\n",
       "      <td>1.098632e+00</td>\n",
       "      <td>...</td>\n",
       "      <td>7.345240e-01</td>\n",
       "      <td>7.257016e-01</td>\n",
       "      <td>6.244603e-01</td>\n",
       "      <td>6.056471e-01</td>\n",
       "      <td>5.212781e-01</td>\n",
       "      <td>4.822270e-01</td>\n",
       "      <td>4.036325e-01</td>\n",
       "      <td>3.300833e-01</td>\n",
       "      <td>250.120109</td>\n",
       "      <td>0.041527</td>\n",
       "    </tr>\n",
       "    <tr>\n",
       "      <th>min</th>\n",
       "      <td>0.000000</td>\n",
       "      <td>-5.640751e+01</td>\n",
       "      <td>-7.271573e+01</td>\n",
       "      <td>-4.832559e+01</td>\n",
       "      <td>-5.683171e+00</td>\n",
       "      <td>-1.137433e+02</td>\n",
       "      <td>-2.616051e+01</td>\n",
       "      <td>-4.355724e+01</td>\n",
       "      <td>-7.321672e+01</td>\n",
       "      <td>-1.343407e+01</td>\n",
       "      <td>...</td>\n",
       "      <td>-3.483038e+01</td>\n",
       "      <td>-1.093314e+01</td>\n",
       "      <td>-4.480774e+01</td>\n",
       "      <td>-2.836627e+00</td>\n",
       "      <td>-1.029540e+01</td>\n",
       "      <td>-2.604551e+00</td>\n",
       "      <td>-2.256568e+01</td>\n",
       "      <td>-1.543008e+01</td>\n",
       "      <td>0.000000</td>\n",
       "      <td>0.000000</td>\n",
       "    </tr>\n",
       "    <tr>\n",
       "      <th>25%</th>\n",
       "      <td>54201.500000</td>\n",
       "      <td>-9.203734e-01</td>\n",
       "      <td>-5.985499e-01</td>\n",
       "      <td>-8.903648e-01</td>\n",
       "      <td>-8.486401e-01</td>\n",
       "      <td>-6.915971e-01</td>\n",
       "      <td>-7.682956e-01</td>\n",
       "      <td>-5.540759e-01</td>\n",
       "      <td>-2.086297e-01</td>\n",
       "      <td>-6.430976e-01</td>\n",
       "      <td>...</td>\n",
       "      <td>-2.283949e-01</td>\n",
       "      <td>-5.423504e-01</td>\n",
       "      <td>-1.618463e-01</td>\n",
       "      <td>-3.545861e-01</td>\n",
       "      <td>-3.171451e-01</td>\n",
       "      <td>-3.269839e-01</td>\n",
       "      <td>-7.083953e-02</td>\n",
       "      <td>-5.295979e-02</td>\n",
       "      <td>5.600000</td>\n",
       "      <td>0.000000</td>\n",
       "    </tr>\n",
       "    <tr>\n",
       "      <th>50%</th>\n",
       "      <td>84692.000000</td>\n",
       "      <td>1.810880e-02</td>\n",
       "      <td>6.548556e-02</td>\n",
       "      <td>1.798463e-01</td>\n",
       "      <td>-1.984653e-02</td>\n",
       "      <td>-5.433583e-02</td>\n",
       "      <td>-2.741871e-01</td>\n",
       "      <td>4.010308e-02</td>\n",
       "      <td>2.235804e-02</td>\n",
       "      <td>-5.142873e-02</td>\n",
       "      <td>...</td>\n",
       "      <td>-2.945017e-02</td>\n",
       "      <td>6.781943e-03</td>\n",
       "      <td>-1.119293e-02</td>\n",
       "      <td>4.097606e-02</td>\n",
       "      <td>1.659350e-02</td>\n",
       "      <td>-5.213911e-02</td>\n",
       "      <td>1.342146e-03</td>\n",
       "      <td>1.124383e-02</td>\n",
       "      <td>22.000000</td>\n",
       "      <td>0.000000</td>\n",
       "    </tr>\n",
       "    <tr>\n",
       "      <th>75%</th>\n",
       "      <td>139320.500000</td>\n",
       "      <td>1.315642e+00</td>\n",
       "      <td>8.037239e-01</td>\n",
       "      <td>1.027196e+00</td>\n",
       "      <td>7.433413e-01</td>\n",
       "      <td>6.119264e-01</td>\n",
       "      <td>3.985649e-01</td>\n",
       "      <td>5.704361e-01</td>\n",
       "      <td>3.273459e-01</td>\n",
       "      <td>5.971390e-01</td>\n",
       "      <td>...</td>\n",
       "      <td>1.863772e-01</td>\n",
       "      <td>5.285536e-01</td>\n",
       "      <td>1.476421e-01</td>\n",
       "      <td>4.395266e-01</td>\n",
       "      <td>3.507156e-01</td>\n",
       "      <td>2.409522e-01</td>\n",
       "      <td>9.104512e-02</td>\n",
       "      <td>7.827995e-02</td>\n",
       "      <td>77.165000</td>\n",
       "      <td>0.000000</td>\n",
       "    </tr>\n",
       "    <tr>\n",
       "      <th>max</th>\n",
       "      <td>172792.000000</td>\n",
       "      <td>2.454930e+00</td>\n",
       "      <td>2.205773e+01</td>\n",
       "      <td>9.382558e+00</td>\n",
       "      <td>1.687534e+01</td>\n",
       "      <td>3.480167e+01</td>\n",
       "      <td>7.330163e+01</td>\n",
       "      <td>1.205895e+02</td>\n",
       "      <td>2.000721e+01</td>\n",
       "      <td>1.559499e+01</td>\n",
       "      <td>...</td>\n",
       "      <td>2.720284e+01</td>\n",
       "      <td>1.050309e+01</td>\n",
       "      <td>2.252841e+01</td>\n",
       "      <td>4.584549e+00</td>\n",
       "      <td>7.519589e+00</td>\n",
       "      <td>3.517346e+00</td>\n",
       "      <td>3.161220e+01</td>\n",
       "      <td>3.384781e+01</td>\n",
       "      <td>25691.160000</td>\n",
       "      <td>1.000000</td>\n",
       "    </tr>\n",
       "  </tbody>\n",
       "</table>\n",
       "<p>8 rows × 31 columns</p>\n",
       "</div>"
      ],
      "text/plain": [
       "                Time            V1            V2            V3            V4  \\\n",
       "count  284807.000000  2.848070e+05  2.848070e+05  2.848070e+05  2.848070e+05   \n",
       "mean    94813.859575  1.168375e-15  3.416908e-16 -1.379537e-15  2.074095e-15   \n",
       "std     47488.145955  1.958696e+00  1.651309e+00  1.516255e+00  1.415869e+00   \n",
       "min         0.000000 -5.640751e+01 -7.271573e+01 -4.832559e+01 -5.683171e+00   \n",
       "25%     54201.500000 -9.203734e-01 -5.985499e-01 -8.903648e-01 -8.486401e-01   \n",
       "50%     84692.000000  1.810880e-02  6.548556e-02  1.798463e-01 -1.984653e-02   \n",
       "75%    139320.500000  1.315642e+00  8.037239e-01  1.027196e+00  7.433413e-01   \n",
       "max    172792.000000  2.454930e+00  2.205773e+01  9.382558e+00  1.687534e+01   \n",
       "\n",
       "                 V5            V6            V7            V8            V9  \\\n",
       "count  2.848070e+05  2.848070e+05  2.848070e+05  2.848070e+05  2.848070e+05   \n",
       "mean   9.604066e-16  1.487313e-15 -5.556467e-16  1.213481e-16 -2.406331e-15   \n",
       "std    1.380247e+00  1.332271e+00  1.237094e+00  1.194353e+00  1.098632e+00   \n",
       "min   -1.137433e+02 -2.616051e+01 -4.355724e+01 -7.321672e+01 -1.343407e+01   \n",
       "25%   -6.915971e-01 -7.682956e-01 -5.540759e-01 -2.086297e-01 -6.430976e-01   \n",
       "50%   -5.433583e-02 -2.741871e-01  4.010308e-02  2.235804e-02 -5.142873e-02   \n",
       "75%    6.119264e-01  3.985649e-01  5.704361e-01  3.273459e-01  5.971390e-01   \n",
       "max    3.480167e+01  7.330163e+01  1.205895e+02  2.000721e+01  1.559499e+01   \n",
       "\n",
       "       ...           V21           V22           V23           V24  \\\n",
       "count  ...  2.848070e+05  2.848070e+05  2.848070e+05  2.848070e+05   \n",
       "mean   ...  1.654067e-16 -3.568593e-16  2.578648e-16  4.473266e-15   \n",
       "std    ...  7.345240e-01  7.257016e-01  6.244603e-01  6.056471e-01   \n",
       "min    ... -3.483038e+01 -1.093314e+01 -4.480774e+01 -2.836627e+00   \n",
       "25%    ... -2.283949e-01 -5.423504e-01 -1.618463e-01 -3.545861e-01   \n",
       "50%    ... -2.945017e-02  6.781943e-03 -1.119293e-02  4.097606e-02   \n",
       "75%    ...  1.863772e-01  5.285536e-01  1.476421e-01  4.395266e-01   \n",
       "max    ...  2.720284e+01  1.050309e+01  2.252841e+01  4.584549e+00   \n",
       "\n",
       "                V25           V26           V27           V28         Amount  \\\n",
       "count  2.848070e+05  2.848070e+05  2.848070e+05  2.848070e+05  284807.000000   \n",
       "mean   5.340915e-16  1.683437e-15 -3.660091e-16 -1.227390e-16      88.349619   \n",
       "std    5.212781e-01  4.822270e-01  4.036325e-01  3.300833e-01     250.120109   \n",
       "min   -1.029540e+01 -2.604551e+00 -2.256568e+01 -1.543008e+01       0.000000   \n",
       "25%   -3.171451e-01 -3.269839e-01 -7.083953e-02 -5.295979e-02       5.600000   \n",
       "50%    1.659350e-02 -5.213911e-02  1.342146e-03  1.124383e-02      22.000000   \n",
       "75%    3.507156e-01  2.409522e-01  9.104512e-02  7.827995e-02      77.165000   \n",
       "max    7.519589e+00  3.517346e+00  3.161220e+01  3.384781e+01   25691.160000   \n",
       "\n",
       "               Class  \n",
       "count  284807.000000  \n",
       "mean        0.001727  \n",
       "std         0.041527  \n",
       "min         0.000000  \n",
       "25%         0.000000  \n",
       "50%         0.000000  \n",
       "75%         0.000000  \n",
       "max         1.000000  \n",
       "\n",
       "[8 rows x 31 columns]"
      ]
     },
     "execution_count": 5,
     "metadata": {},
     "output_type": "execute_result"
    }
   ],
   "source": [
    "df.describe()"
   ]
  },
  {
   "cell_type": "code",
   "execution_count": 6,
   "id": "c4bdc78f",
   "metadata": {
    "execution": {
     "iopub.execute_input": "2024-01-27T18:16:52.274457Z",
     "iopub.status.busy": "2024-01-27T18:16:52.273317Z",
     "iopub.status.idle": "2024-01-27T18:16:53.210352Z",
     "shell.execute_reply": "2024-01-27T18:16:53.209176Z"
    },
    "papermill": {
     "duration": 0.955513,
     "end_time": "2024-01-27T18:16:53.212749",
     "exception": false,
     "start_time": "2024-01-27T18:16:52.257236",
     "status": "completed"
    },
    "tags": []
   },
   "outputs": [
    {
     "data": {
      "text/plain": [
       "True"
      ]
     },
     "execution_count": 6,
     "metadata": {},
     "output_type": "execute_result"
    }
   ],
   "source": [
    "# checking if there are any duplicate rows in the DataFrame\n",
    "df.duplicated().any()"
   ]
  },
  {
   "cell_type": "code",
   "execution_count": 7,
   "id": "56880afb",
   "metadata": {
    "execution": {
     "iopub.execute_input": "2024-01-27T18:16:53.244600Z",
     "iopub.status.busy": "2024-01-27T18:16:53.244183Z",
     "iopub.status.idle": "2024-01-27T18:16:54.212873Z",
     "shell.execute_reply": "2024-01-27T18:16:54.211797Z"
    },
    "papermill": {
     "duration": 0.987763,
     "end_time": "2024-01-27T18:16:54.215715",
     "exception": false,
     "start_time": "2024-01-27T18:16:53.227952",
     "status": "completed"
    },
    "tags": []
   },
   "outputs": [],
   "source": [
    "# Drop the duplicate rows from the DataFrame\n",
    "df = df.drop_duplicates()\n",
    "#Reset index\n",
    "df = df.reset_index(drop=True)"
   ]
  },
  {
   "cell_type": "code",
   "execution_count": 8,
   "id": "662ee0b0",
   "metadata": {
    "execution": {
     "iopub.execute_input": "2024-01-27T18:16:54.248902Z",
     "iopub.status.busy": "2024-01-27T18:16:54.248460Z",
     "iopub.status.idle": "2024-01-27T18:16:55.128629Z",
     "shell.execute_reply": "2024-01-27T18:16:55.127519Z"
    },
    "papermill": {
     "duration": 0.899645,
     "end_time": "2024-01-27T18:16:55.131220",
     "exception": false,
     "start_time": "2024-01-27T18:16:54.231575",
     "status": "completed"
    },
    "tags": []
   },
   "outputs": [
    {
     "data": {
      "text/plain": [
       "False"
      ]
     },
     "execution_count": 8,
     "metadata": {},
     "output_type": "execute_result"
    }
   ],
   "source": [
    "#checking that all duplicate rows is dropped\n",
    "df.duplicated().any()"
   ]
  },
  {
   "cell_type": "markdown",
   "id": "eb60f966",
   "metadata": {
    "papermill": {
     "duration": 0.015057,
     "end_time": "2024-01-27T18:16:55.161617",
     "exception": false,
     "start_time": "2024-01-27T18:16:55.146560",
     "status": "completed"
    },
    "tags": []
   },
   "source": [
    "> there aren't any duplicate rows"
   ]
  },
  {
   "cell_type": "code",
   "execution_count": 9,
   "id": "2412bcfe",
   "metadata": {
    "execution": {
     "iopub.execute_input": "2024-01-27T18:16:55.194600Z",
     "iopub.status.busy": "2024-01-27T18:16:55.193572Z",
     "iopub.status.idle": "2024-01-27T18:16:55.204173Z",
     "shell.execute_reply": "2024-01-27T18:16:55.203421Z"
    },
    "papermill": {
     "duration": 0.029394,
     "end_time": "2024-01-27T18:16:55.206274",
     "exception": false,
     "start_time": "2024-01-27T18:16:55.176880",
     "status": "completed"
    },
    "tags": []
   },
   "outputs": [
    {
     "data": {
      "text/plain": [
       "Class\n",
       "0    283253\n",
       "1       473\n",
       "Name: count, dtype: int64"
      ]
     },
     "execution_count": 9,
     "metadata": {},
     "output_type": "execute_result"
    }
   ],
   "source": [
    "# checking if the target('Class') data is balanced or imbalanced data\n",
    "df.Class.value_counts()"
   ]
  },
  {
   "cell_type": "markdown",
   "id": "ecb41181",
   "metadata": {
    "papermill": {
     "duration": 0.015153,
     "end_time": "2024-01-27T18:16:55.298727",
     "exception": false,
     "start_time": "2024-01-27T18:16:55.283574",
     "status": "completed"
    },
    "tags": []
   },
   "source": [
    "> This is imbalance data and need ro make sampling"
   ]
  },
  {
   "cell_type": "markdown",
   "id": "b8b214c3",
   "metadata": {
    "papermill": {
     "duration": 0.015784,
     "end_time": "2024-01-27T18:16:55.329957",
     "exception": false,
     "start_time": "2024-01-27T18:16:55.314173",
     "status": "completed"
    },
    "tags": []
   },
   "source": [
    "# copy of data"
   ]
  },
  {
   "cell_type": "code",
   "execution_count": 10,
   "id": "1c6d8572",
   "metadata": {
    "execution": {
     "iopub.execute_input": "2024-01-27T18:16:55.366006Z",
     "iopub.status.busy": "2024-01-27T18:16:55.365580Z",
     "iopub.status.idle": "2024-01-27T18:16:55.399063Z",
     "shell.execute_reply": "2024-01-27T18:16:55.397894Z"
    },
    "papermill": {
     "duration": 0.053655,
     "end_time": "2024-01-27T18:16:55.401790",
     "exception": false,
     "start_time": "2024-01-27T18:16:55.348135",
     "status": "completed"
    },
    "tags": []
   },
   "outputs": [],
   "source": [
    "# taking a copy of data\n",
    "df2=df.copy()"
   ]
  },
  {
   "cell_type": "markdown",
   "id": "496f3c94",
   "metadata": {
    "papermill": {
     "duration": 0.015205,
     "end_time": "2024-01-27T18:16:55.432547",
     "exception": false,
     "start_time": "2024-01-27T18:16:55.417342",
     "status": "completed"
    },
    "tags": []
   },
   "source": [
    "# Data Analysis & Visualization"
   ]
  },
  {
   "cell_type": "markdown",
   "id": "3ba633ad",
   "metadata": {
    "papermill": {
     "duration": 0.015094,
     "end_time": "2024-01-27T18:16:55.463038",
     "exception": false,
     "start_time": "2024-01-27T18:16:55.447944",
     "status": "completed"
    },
    "tags": []
   },
   "source": [
    "# Distribution of Transaction Time"
   ]
  },
  {
   "cell_type": "code",
   "execution_count": 11,
   "id": "9588048a",
   "metadata": {
    "execution": {
     "iopub.execute_input": "2024-01-27T18:16:55.495405Z",
     "iopub.status.busy": "2024-01-27T18:16:55.494996Z",
     "iopub.status.idle": "2024-01-27T18:16:55.857756Z",
     "shell.execute_reply": "2024-01-27T18:16:55.856762Z"
    },
    "papermill": {
     "duration": 0.382348,
     "end_time": "2024-01-27T18:16:55.860704",
     "exception": false,
     "start_time": "2024-01-27T18:16:55.478356",
     "status": "completed"
    },
    "tags": []
   },
   "outputs": [
    {
     "data": {
      "image/png": "[encoded data removed]",
      "text/plain": [
       "<Figure size 1000x500 with 1 Axes>"
      ]
     },
     "metadata": {},
     "output_type": "display_data"
    }
   ],
   "source": [
    "plt.figure(figsize=(10,5))\n",
    "plt.plot(df2.index,df2[\"Time\"])\n",
    "plt.xlabel(\"Transaction\")\n",
    "plt.ylabel(\"Time\")\n",
    "plt.title(\"Distribution of Transaction Time\")\n",
    "plt.show()"
   ]
  },
  {
   "cell_type": "markdown",
   "id": "a0153b2f",
   "metadata": {
    "papermill": {
     "duration": 0.016606,
     "end_time": "2024-01-27T18:16:55.893537",
     "exception": false,
     "start_time": "2024-01-27T18:16:55.876931",
     "status": "completed"
    },
    "tags": []
   },
   "source": [
    "# Distribution of Transaction Amount"
   ]
  },
  {
   "cell_type": "code",
   "execution_count": 12,
   "id": "5f83d6de",
   "metadata": {
    "execution": {
     "iopub.execute_input": "2024-01-27T18:16:55.927377Z",
     "iopub.status.busy": "2024-01-27T18:16:55.926962Z",
     "iopub.status.idle": "2024-01-27T18:16:56.306148Z",
     "shell.execute_reply": "2024-01-27T18:16:56.304904Z"
    },
    "papermill": {
     "duration": 0.398929,
     "end_time": "2024-01-27T18:16:56.308632",
     "exception": false,
     "start_time": "2024-01-27T18:16:55.909703",
     "status": "completed"
    },
    "tags": []
   },
   "outputs": [
    {
     "data": {
      "image/png": "[encoded data removed]",
      "text/plain": [
       "<Figure size 1000x500 with 1 Axes>"
      ]
     },
     "metadata": {},
     "output_type": "display_data"
    }
   ],
   "source": [
    "plt.figure(figsize=(10,5))\n",
    "plt.plot(df2.index,df2[\"Amount\"])\n",
    "plt.xlabel(\"Transaction\")\n",
    "plt.ylabel(\"Amount\")\n",
    "plt.title(\"Distribution of Transaction Amount\")\n",
    "plt.show()"
   ]
  },
  {
   "cell_type": "markdown",
   "id": "a73eda00",
   "metadata": {
    "papermill": {
     "duration": 0.016692,
     "end_time": "2024-01-27T18:16:56.342441",
     "exception": false,
     "start_time": "2024-01-27T18:16:56.325749",
     "status": "completed"
    },
    "tags": []
   },
   "source": [
    "# Correlated columns with Class"
   ]
  },
  {
   "cell_type": "code",
   "execution_count": 13,
   "id": "4fca74d5",
   "metadata": {
    "execution": {
     "iopub.execute_input": "2024-01-27T18:16:56.380058Z",
     "iopub.status.busy": "2024-01-27T18:16:56.378914Z",
     "iopub.status.idle": "2024-01-27T18:16:57.192849Z",
     "shell.execute_reply": "2024-01-27T18:16:57.191612Z"
    },
    "papermill": {
     "duration": 0.835196,
     "end_time": "2024-01-27T18:16:57.195759",
     "exception": false,
     "start_time": "2024-01-27T18:16:56.360563",
     "status": "completed"
    },
    "tags": []
   },
   "outputs": [
    {
     "name": "stdout",
     "output_type": "stream",
     "text": [
      "Class     1.000000\n",
      "V11       0.149067\n",
      "V4        0.129326\n",
      "V2        0.084624\n",
      "V19       0.033631\n",
      "V8        0.033068\n",
      "V21       0.026357\n",
      "V27       0.021892\n",
      "V20       0.021486\n",
      "V28       0.009682\n",
      "Amount    0.005777\n",
      "V22       0.004887\n",
      "V26       0.004265\n",
      "V25       0.003202\n",
      "V15      -0.003300\n",
      "V13      -0.003897\n",
      "V23      -0.006333\n",
      "V24      -0.007210\n",
      "Time     -0.012359\n",
      "V6       -0.043915\n",
      "V5       -0.087812\n",
      "V9       -0.094021\n",
      "V1       -0.094486\n",
      "V18      -0.105340\n",
      "V7       -0.172347\n",
      "V3       -0.182322\n",
      "V16      -0.187186\n",
      "V10      -0.206971\n",
      "V12      -0.250711\n",
      "V14      -0.293375\n",
      "V17      -0.313498\n",
      "Name: Class, dtype: float64\n"
     ]
    }
   ],
   "source": [
    "corr = df2.corr()\n",
    "c=corr['Class'].sort_values(ascending=False)\n",
    "print(c)"
   ]
  },
  {
   "cell_type": "markdown",
   "id": "17801810",
   "metadata": {
    "papermill": {
     "duration": 0.016495,
     "end_time": "2024-01-27T18:16:57.229354",
     "exception": false,
     "start_time": "2024-01-27T18:16:57.212859",
     "status": "completed"
    },
    "tags": []
   },
   "source": [
    "> We've found that V11 is Max positive correlation and V17 is Max negative correlation"
   ]
  },
  {
   "cell_type": "code",
   "execution_count": 14,
   "id": "c365a01e",
   "metadata": {
    "execution": {
     "iopub.execute_input": "2024-01-27T18:16:57.264752Z",
     "iopub.status.busy": "2024-01-27T18:16:57.264338Z",
     "iopub.status.idle": "2024-01-27T18:16:57.304120Z",
     "shell.execute_reply": "2024-01-27T18:16:57.303192Z"
    },
    "papermill": {
     "duration": 0.060612,
     "end_time": "2024-01-27T18:16:57.306824",
     "exception": false,
     "start_time": "2024-01-27T18:16:57.246212",
     "status": "completed"
    },
    "tags": []
   },
   "outputs": [],
   "source": [
    "# value of 1 in the \"Class\" column indicates (fraud) transactions\n",
    "fraud=df2[df2[\"Class\"]==1]\n",
    "# value of 0 in the \"Class\" column indicates (real) transactions\n",
    "real=df2[df2[\"Class\"]==0]"
   ]
  },
  {
   "cell_type": "markdown",
   "id": "87780c05",
   "metadata": {
    "papermill": {
     "duration": 0.017368,
     "end_time": "2024-01-27T18:16:57.341556",
     "exception": false,
     "start_time": "2024-01-27T18:16:57.324188",
     "status": "completed"
    },
    "tags": []
   },
   "source": [
    "# Relationship between Time and Max positive correlation(V11)"
   ]
  },
  {
   "cell_type": "code",
   "execution_count": 15,
   "id": "855a1a9d",
   "metadata": {
    "execution": {
     "iopub.execute_input": "2024-01-27T18:16:57.379160Z",
     "iopub.status.busy": "2024-01-27T18:16:57.378759Z",
     "iopub.status.idle": "2024-01-27T18:17:00.476531Z",
     "shell.execute_reply": "2024-01-27T18:17:00.475611Z"
    },
    "papermill": {
     "duration": 3.119393,
     "end_time": "2024-01-27T18:17:00.479424",
     "exception": false,
     "start_time": "2024-01-27T18:16:57.360031",
     "status": "completed"
    },
    "tags": []
   },
   "outputs": [
    {
     "data": {
      "image/png": "[encoded data removed]",
      "text/plain": [
       "<Figure size 1000x500 with 1 Axes>"
      ]
     },
     "metadata": {},
     "output_type": "display_data"
    }
   ],
   "source": [
    "plt.figure(figsize=(10,5))\n",
    "plt.scatter(real[\"Time\"],real[\"V11\"],label=\"Real Transaction\")\n",
    "plt.scatter(fraud[\"Time\"],fraud[\"V11\"],label=\"Fraud Transaction\")\n",
    "plt.xlabel(\"Time\")\n",
    "plt.ylabel(\"V11\")\n",
    "plt.title(\"Max positive correlation(V11)\")\n",
    "plt.legend()\n",
    "plt.show()"
   ]
  },
  {
   "cell_type": "markdown",
   "id": "53c9a295",
   "metadata": {
    "papermill": {
     "duration": 0.018009,
     "end_time": "2024-01-27T18:17:00.516395",
     "exception": false,
     "start_time": "2024-01-27T18:17:00.498386",
     "status": "completed"
    },
    "tags": []
   },
   "source": [
    "# Relationship between Time and Max negative correlation(V17)"
   ]
  },
  {
   "cell_type": "code",
   "execution_count": 16,
   "id": "aa0a997f",
   "metadata": {
    "execution": {
     "iopub.execute_input": "2024-01-27T18:17:00.554593Z",
     "iopub.status.busy": "2024-01-27T18:17:00.554152Z",
     "iopub.status.idle": "2024-01-27T18:17:06.038716Z",
     "shell.execute_reply": "2024-01-27T18:17:06.037903Z"
    },
    "papermill": {
     "duration": 5.507169,
     "end_time": "2024-01-27T18:17:06.041913",
     "exception": false,
     "start_time": "2024-01-27T18:17:00.534744",
     "status": "completed"
    },
    "tags": []
   },
   "outputs": [
    {
     "data": {
      "image/png": "[encoded data removed]",
      "text/plain": [
       "<Figure size 1000x500 with 1 Axes>"
      ]
     },
     "metadata": {},
     "output_type": "display_data"
    }
   ],
   "source": [
    "plt.figure(figsize=(10,5))\n",
    "plt.scatter(real[\"Time\"],real[\"V17\"],label=\"Real Transaction\")\n",
    "plt.scatter(fraud[\"Time\"],fraud[\"V17\"],label=\"Fraud Transaction\")\n",
    "plt.xlabel(\"Time\")\n",
    "plt.ylabel(\"V17\")\n",
    "plt.title(\"Max negative correlation(V17)\")\n",
    "plt.legend()\n",
    "plt.show()"
   ]
  },
  {
   "cell_type": "markdown",
   "id": "e2832ba4",
   "metadata": {
    "papermill": {
     "duration": 0.018923,
     "end_time": "2024-01-27T18:17:06.080111",
     "exception": false,
     "start_time": "2024-01-27T18:17:06.061188",
     "status": "completed"
    },
    "tags": []
   },
   "source": [
    "# performing standard scaling"
   ]
  },
  {
   "cell_type": "code",
   "execution_count": 17,
   "id": "4975d0f7",
   "metadata": {
    "execution": {
     "iopub.execute_input": "2024-01-27T18:17:06.121423Z",
     "iopub.status.busy": "2024-01-27T18:17:06.120680Z",
     "iopub.status.idle": "2024-01-27T18:17:06.409333Z",
     "shell.execute_reply": "2024-01-27T18:17:06.408088Z"
    },
    "papermill": {
     "duration": 0.312452,
     "end_time": "2024-01-27T18:17:06.411807",
     "exception": false,
     "start_time": "2024-01-27T18:17:06.099355",
     "status": "completed"
    },
    "tags": []
   },
   "outputs": [
    {
     "data": {
      "text/html": [
       "<div>\n",
       "<style scoped>\n",
       "    .dataframe tbody tr th:only-of-type {\n",
       "        vertical-align: middle;\n",
       "    }\n",
       "\n",
       "    .dataframe tbody tr th {\n",
       "        vertical-align: top;\n",
       "    }\n",
       "\n",
       "    .dataframe thead th {\n",
       "        text-align: right;\n",
       "    }\n",
       "</style>\n",
       "<table border=\"1\" class=\"dataframe\">\n",
       "  <thead>\n",
       "    <tr style=\"text-align: right;\">\n",
       "      <th></th>\n",
       "      <th>V1</th>\n",
       "      <th>V2</th>\n",
       "      <th>V3</th>\n",
       "      <th>V4</th>\n",
       "      <th>V5</th>\n",
       "      <th>V6</th>\n",
       "      <th>V7</th>\n",
       "      <th>V8</th>\n",
       "      <th>V9</th>\n",
       "      <th>V10</th>\n",
       "      <th>...</th>\n",
       "      <th>V22</th>\n",
       "      <th>V23</th>\n",
       "      <th>V24</th>\n",
       "      <th>V25</th>\n",
       "      <th>V26</th>\n",
       "      <th>V27</th>\n",
       "      <th>V28</th>\n",
       "      <th>Class</th>\n",
       "      <th>amount</th>\n",
       "      <th>time</th>\n",
       "    </tr>\n",
       "  </thead>\n",
       "  <tbody>\n",
       "    <tr>\n",
       "      <th>0</th>\n",
       "      <td>-1.359807</td>\n",
       "      <td>-0.072781</td>\n",
       "      <td>2.536347</td>\n",
       "      <td>1.378155</td>\n",
       "      <td>-0.338321</td>\n",
       "      <td>0.462388</td>\n",
       "      <td>0.239599</td>\n",
       "      <td>0.098698</td>\n",
       "      <td>0.363787</td>\n",
       "      <td>0.090794</td>\n",
       "      <td>...</td>\n",
       "      <td>0.277838</td>\n",
       "      <td>-0.110474</td>\n",
       "      <td>0.066928</td>\n",
       "      <td>0.128539</td>\n",
       "      <td>-0.189115</td>\n",
       "      <td>0.133558</td>\n",
       "      <td>-0.021053</td>\n",
       "      <td>0</td>\n",
       "      <td>0.244200</td>\n",
       "      <td>-1.996823</td>\n",
       "    </tr>\n",
       "    <tr>\n",
       "      <th>1</th>\n",
       "      <td>1.191857</td>\n",
       "      <td>0.266151</td>\n",
       "      <td>0.166480</td>\n",
       "      <td>0.448154</td>\n",
       "      <td>0.060018</td>\n",
       "      <td>-0.082361</td>\n",
       "      <td>-0.078803</td>\n",
       "      <td>0.085102</td>\n",
       "      <td>-0.255425</td>\n",
       "      <td>-0.166974</td>\n",
       "      <td>...</td>\n",
       "      <td>-0.638672</td>\n",
       "      <td>0.101288</td>\n",
       "      <td>-0.339846</td>\n",
       "      <td>0.167170</td>\n",
       "      <td>0.125895</td>\n",
       "      <td>-0.008983</td>\n",
       "      <td>0.014724</td>\n",
       "      <td>0</td>\n",
       "      <td>-0.342584</td>\n",
       "      <td>-1.996823</td>\n",
       "    </tr>\n",
       "    <tr>\n",
       "      <th>2</th>\n",
       "      <td>-1.358354</td>\n",
       "      <td>-1.340163</td>\n",
       "      <td>1.773209</td>\n",
       "      <td>0.379780</td>\n",
       "      <td>-0.503198</td>\n",
       "      <td>1.800499</td>\n",
       "      <td>0.791461</td>\n",
       "      <td>0.247676</td>\n",
       "      <td>-1.514654</td>\n",
       "      <td>0.207643</td>\n",
       "      <td>...</td>\n",
       "      <td>0.771679</td>\n",
       "      <td>0.909412</td>\n",
       "      <td>-0.689281</td>\n",
       "      <td>-0.327642</td>\n",
       "      <td>-0.139097</td>\n",
       "      <td>-0.055353</td>\n",
       "      <td>-0.059752</td>\n",
       "      <td>0</td>\n",
       "      <td>1.158900</td>\n",
       "      <td>-1.996802</td>\n",
       "    </tr>\n",
       "    <tr>\n",
       "      <th>3</th>\n",
       "      <td>-0.966272</td>\n",
       "      <td>-0.185226</td>\n",
       "      <td>1.792993</td>\n",
       "      <td>-0.863291</td>\n",
       "      <td>-0.010309</td>\n",
       "      <td>1.247203</td>\n",
       "      <td>0.237609</td>\n",
       "      <td>0.377436</td>\n",
       "      <td>-1.387024</td>\n",
       "      <td>-0.054952</td>\n",
       "      <td>...</td>\n",
       "      <td>0.005274</td>\n",
       "      <td>-0.190321</td>\n",
       "      <td>-1.175575</td>\n",
       "      <td>0.647376</td>\n",
       "      <td>-0.221929</td>\n",
       "      <td>0.062723</td>\n",
       "      <td>0.061458</td>\n",
       "      <td>0</td>\n",
       "      <td>0.139886</td>\n",
       "      <td>-1.996802</td>\n",
       "    </tr>\n",
       "    <tr>\n",
       "      <th>4</th>\n",
       "      <td>-1.158233</td>\n",
       "      <td>0.877737</td>\n",
       "      <td>1.548718</td>\n",
       "      <td>0.403034</td>\n",
       "      <td>-0.407193</td>\n",
       "      <td>0.095921</td>\n",
       "      <td>0.592941</td>\n",
       "      <td>-0.270533</td>\n",
       "      <td>0.817739</td>\n",
       "      <td>0.753074</td>\n",
       "      <td>...</td>\n",
       "      <td>0.798278</td>\n",
       "      <td>-0.137458</td>\n",
       "      <td>0.141267</td>\n",
       "      <td>-0.206010</td>\n",
       "      <td>0.502292</td>\n",
       "      <td>0.219422</td>\n",
       "      <td>0.215153</td>\n",
       "      <td>0</td>\n",
       "      <td>-0.073813</td>\n",
       "      <td>-1.996781</td>\n",
       "    </tr>\n",
       "    <tr>\n",
       "      <th>...</th>\n",
       "      <td>...</td>\n",
       "      <td>...</td>\n",
       "      <td>...</td>\n",
       "      <td>...</td>\n",
       "      <td>...</td>\n",
       "      <td>...</td>\n",
       "      <td>...</td>\n",
       "      <td>...</td>\n",
       "      <td>...</td>\n",
       "      <td>...</td>\n",
       "      <td>...</td>\n",
       "      <td>...</td>\n",
       "      <td>...</td>\n",
       "      <td>...</td>\n",
       "      <td>...</td>\n",
       "      <td>...</td>\n",
       "      <td>...</td>\n",
       "      <td>...</td>\n",
       "      <td>...</td>\n",
       "      <td>...</td>\n",
       "      <td>...</td>\n",
       "    </tr>\n",
       "    <tr>\n",
       "      <th>283721</th>\n",
       "      <td>-11.881118</td>\n",
       "      <td>10.071785</td>\n",
       "      <td>-9.834783</td>\n",
       "      <td>-2.066656</td>\n",
       "      <td>-5.364473</td>\n",
       "      <td>-2.606837</td>\n",
       "      <td>-4.918215</td>\n",
       "      <td>7.305334</td>\n",
       "      <td>1.914428</td>\n",
       "      <td>4.356170</td>\n",
       "      <td>...</td>\n",
       "      <td>0.111864</td>\n",
       "      <td>1.014480</td>\n",
       "      <td>-0.509348</td>\n",
       "      <td>1.436807</td>\n",
       "      <td>0.250034</td>\n",
       "      <td>0.943651</td>\n",
       "      <td>0.823731</td>\n",
       "      <td>0</td>\n",
       "      <td>-0.350252</td>\n",
       "      <td>1.642235</td>\n",
       "    </tr>\n",
       "    <tr>\n",
       "      <th>283722</th>\n",
       "      <td>-0.732789</td>\n",
       "      <td>-0.055080</td>\n",
       "      <td>2.035030</td>\n",
       "      <td>-0.738589</td>\n",
       "      <td>0.868229</td>\n",
       "      <td>1.058415</td>\n",
       "      <td>0.024330</td>\n",
       "      <td>0.294869</td>\n",
       "      <td>0.584800</td>\n",
       "      <td>-0.975926</td>\n",
       "      <td>...</td>\n",
       "      <td>0.924384</td>\n",
       "      <td>0.012463</td>\n",
       "      <td>-1.016226</td>\n",
       "      <td>-0.606624</td>\n",
       "      <td>-0.395255</td>\n",
       "      <td>0.068472</td>\n",
       "      <td>-0.053527</td>\n",
       "      <td>0</td>\n",
       "      <td>-0.254325</td>\n",
       "      <td>1.642257</td>\n",
       "    </tr>\n",
       "    <tr>\n",
       "      <th>283723</th>\n",
       "      <td>1.919565</td>\n",
       "      <td>-0.301254</td>\n",
       "      <td>-3.249640</td>\n",
       "      <td>-0.557828</td>\n",
       "      <td>2.630515</td>\n",
       "      <td>3.031260</td>\n",
       "      <td>-0.296827</td>\n",
       "      <td>0.708417</td>\n",
       "      <td>0.432454</td>\n",
       "      <td>-0.484782</td>\n",
       "      <td>...</td>\n",
       "      <td>0.578229</td>\n",
       "      <td>-0.037501</td>\n",
       "      <td>0.640134</td>\n",
       "      <td>0.265745</td>\n",
       "      <td>-0.087371</td>\n",
       "      <td>0.004455</td>\n",
       "      <td>-0.026561</td>\n",
       "      <td>0</td>\n",
       "      <td>-0.082239</td>\n",
       "      <td>1.642278</td>\n",
       "    </tr>\n",
       "    <tr>\n",
       "      <th>283724</th>\n",
       "      <td>-0.240440</td>\n",
       "      <td>0.530483</td>\n",
       "      <td>0.702510</td>\n",
       "      <td>0.689799</td>\n",
       "      <td>-0.377961</td>\n",
       "      <td>0.623708</td>\n",
       "      <td>-0.686180</td>\n",
       "      <td>0.679145</td>\n",
       "      <td>0.392087</td>\n",
       "      <td>-0.399126</td>\n",
       "      <td>...</td>\n",
       "      <td>0.800049</td>\n",
       "      <td>-0.163298</td>\n",
       "      <td>0.123205</td>\n",
       "      <td>-0.569159</td>\n",
       "      <td>0.546668</td>\n",
       "      <td>0.108821</td>\n",
       "      <td>0.104533</td>\n",
       "      <td>0</td>\n",
       "      <td>-0.313391</td>\n",
       "      <td>1.642278</td>\n",
       "    </tr>\n",
       "    <tr>\n",
       "      <th>283725</th>\n",
       "      <td>-0.533413</td>\n",
       "      <td>-0.189733</td>\n",
       "      <td>0.703337</td>\n",
       "      <td>-0.506271</td>\n",
       "      <td>-0.012546</td>\n",
       "      <td>-0.649617</td>\n",
       "      <td>1.577006</td>\n",
       "      <td>-0.414650</td>\n",
       "      <td>0.486180</td>\n",
       "      <td>-0.915427</td>\n",
       "      <td>...</td>\n",
       "      <td>0.643078</td>\n",
       "      <td>0.376777</td>\n",
       "      <td>0.008797</td>\n",
       "      <td>-0.473649</td>\n",
       "      <td>-0.818267</td>\n",
       "      <td>-0.002415</td>\n",
       "      <td>0.013649</td>\n",
       "      <td>0</td>\n",
       "      <td>0.513290</td>\n",
       "      <td>1.642362</td>\n",
       "    </tr>\n",
       "  </tbody>\n",
       "</table>\n",
       "<p>283726 rows × 31 columns</p>\n",
       "</div>"
      ],
      "text/plain": [
       "               V1         V2        V3        V4        V5        V6  \\\n",
       "0       -1.359807  -0.072781  2.536347  1.378155 -0.338321  0.462388   \n",
       "1        1.191857   0.266151  0.166480  0.448154  0.060018 -0.082361   \n",
       "2       -1.358354  -1.340163  1.773209  0.379780 -0.503198  1.800499   \n",
       "3       -0.966272  -0.185226  1.792993 -0.863291 -0.010309  1.247203   \n",
       "4       -1.158233   0.877737  1.548718  0.403034 -0.407193  0.095921   \n",
       "...           ...        ...       ...       ...       ...       ...   \n",
       "283721 -11.881118  10.071785 -9.834783 -2.066656 -5.364473 -2.606837   \n",
       "283722  -0.732789  -0.055080  2.035030 -0.738589  0.868229  1.058415   \n",
       "283723   1.919565  -0.301254 -3.249640 -0.557828  2.630515  3.031260   \n",
       "283724  -0.240440   0.530483  0.702510  0.689799 -0.377961  0.623708   \n",
       "283725  -0.533413  -0.189733  0.703337 -0.506271 -0.012546 -0.649617   \n",
       "\n",
       "              V7        V8        V9       V10  ...       V22       V23  \\\n",
       "0       0.239599  0.098698  0.363787  0.090794  ...  0.277838 -0.110474   \n",
       "1      -0.078803  0.085102 -0.255425 -0.166974  ... -0.638672  0.101288   \n",
       "2       0.791461  0.247676 -1.514654  0.207643  ...  0.771679  0.909412   \n",
       "3       0.237609  0.377436 -1.387024 -0.054952  ...  0.005274 -0.190321   \n",
       "4       0.592941 -0.270533  0.817739  0.753074  ...  0.798278 -0.137458   \n",
       "...          ...       ...       ...       ...  ...       ...       ...   \n",
       "283721 -4.918215  7.305334  1.914428  4.356170  ...  0.111864  1.014480   \n",
       "283722  0.024330  0.294869  0.584800 -0.975926  ...  0.924384  0.012463   \n",
       "283723 -0.296827  0.708417  0.432454 -0.484782  ...  0.578229 -0.037501   \n",
       "283724 -0.686180  0.679145  0.392087 -0.399126  ...  0.800049 -0.163298   \n",
       "283725  1.577006 -0.414650  0.486180 -0.915427  ...  0.643078  0.376777   \n",
       "\n",
       "             V24       V25       V26       V27       V28  Class    amount  \\\n",
       "0       0.066928  0.128539 -0.189115  0.133558 -0.021053      0  0.244200   \n",
       "1      -0.339846  0.167170  0.125895 -0.008983  0.014724      0 -0.342584   \n",
       "2      -0.689281 -0.327642 -0.139097 -0.055353 -0.059752      0  1.158900   \n",
       "3      -1.175575  0.647376 -0.221929  0.062723  0.061458      0  0.139886   \n",
       "4       0.141267 -0.206010  0.502292  0.219422  0.215153      0 -0.073813   \n",
       "...          ...       ...       ...       ...       ...    ...       ...   \n",
       "283721 -0.509348  1.436807  0.250034  0.943651  0.823731      0 -0.350252   \n",
       "283722 -1.016226 -0.606624 -0.395255  0.068472 -0.053527      0 -0.254325   \n",
       "283723  0.640134  0.265745 -0.087371  0.004455 -0.026561      0 -0.082239   \n",
       "283724  0.123205 -0.569159  0.546668  0.108821  0.104533      0 -0.313391   \n",
       "283725  0.008797 -0.473649 -0.818267 -0.002415  0.013649      0  0.513290   \n",
       "\n",
       "            time  \n",
       "0      -1.996823  \n",
       "1      -1.996823  \n",
       "2      -1.996802  \n",
       "3      -1.996802  \n",
       "4      -1.996781  \n",
       "...          ...  \n",
       "283721  1.642235  \n",
       "283722  1.642257  \n",
       "283723  1.642278  \n",
       "283724  1.642278  \n",
       "283725  1.642362  \n",
       "\n",
       "[283726 rows x 31 columns]"
      ]
     },
     "execution_count": 17,
     "metadata": {},
     "output_type": "execute_result"
    }
   ],
   "source": [
    "from sklearn.preprocessing import StandardScaler\n",
    "# standardizes the 'Amount' column in the DataFrame \n",
    "df2['amount'] = StandardScaler().fit_transform(df2['Amount'].values.reshape(-1,1))\n",
    "# standardizes the 'Tine' column in the DataFrame \n",
    "df2['time'] = StandardScaler().fit_transform(df2['Time'].values.reshape(-1,1))\n",
    "# Removng this non-scaling columns\n",
    "df2.drop(['Time','Amount'], axis=1, inplace=True)\n",
    "df2"
   ]
  },
  {
   "cell_type": "markdown",
   "id": "d18739d0",
   "metadata": {
    "papermill": {
     "duration": 0.019571,
     "end_time": "2024-01-27T18:17:06.451292",
     "exception": false,
     "start_time": "2024-01-27T18:17:06.431721",
     "status": "completed"
    },
    "tags": []
   },
   "source": [
    "# Selecting the Features"
   ]
  },
  {
   "cell_type": "code",
   "execution_count": 18,
   "id": "ef07cdff",
   "metadata": {
    "execution": {
     "iopub.execute_input": "2024-01-27T18:17:06.493227Z",
     "iopub.status.busy": "2024-01-27T18:17:06.492784Z",
     "iopub.status.idle": "2024-01-27T18:17:06.523811Z",
     "shell.execute_reply": "2024-01-27T18:17:06.522817Z"
    },
    "papermill": {
     "duration": 0.054932,
     "end_time": "2024-01-27T18:17:06.526245",
     "exception": false,
     "start_time": "2024-01-27T18:17:06.471313",
     "status": "completed"
    },
    "tags": []
   },
   "outputs": [],
   "source": [
    "X = df2.drop('Class', axis=1)\n",
    "Y = df2['Class']"
   ]
  },
  {
   "cell_type": "markdown",
   "id": "64438346",
   "metadata": {
    "papermill": {
     "duration": 0.019409,
     "end_time": "2024-01-27T18:17:06.565559",
     "exception": false,
     "start_time": "2024-01-27T18:17:06.546150",
     "status": "completed"
    },
    "tags": []
   },
   "source": [
    "# Sampiling for data"
   ]
  },
  {
   "cell_type": "code",
   "execution_count": 19,
   "id": "24b00223",
   "metadata": {
    "execution": {
     "iopub.execute_input": "2024-01-27T18:17:06.607390Z",
     "iopub.status.busy": "2024-01-27T18:17:06.606411Z",
     "iopub.status.idle": "2024-01-27T18:17:07.131345Z",
     "shell.execute_reply": "2024-01-27T18:17:07.130406Z"
    },
    "papermill": {
     "duration": 0.548837,
     "end_time": "2024-01-27T18:17:07.134038",
     "exception": false,
     "start_time": "2024-01-27T18:17:06.585201",
     "status": "completed"
    },
    "tags": []
   },
   "outputs": [],
   "source": [
    "from imblearn.under_sampling import RandomUnderSampler\n",
    "undersampler = RandomUnderSampler(random_state=42)\n",
    "X_undersampled, y_undersampled = undersampler.fit_resample(X, Y)"
   ]
  },
  {
   "cell_type": "markdown",
   "id": "8e67aa21",
   "metadata": {
    "papermill": {
     "duration": 0.0196,
     "end_time": "2024-01-27T18:17:07.173700",
     "exception": false,
     "start_time": "2024-01-27T18:17:07.154100",
     "status": "completed"
    },
    "tags": []
   },
   "source": [
    "# Data Spliting"
   ]
  },
  {
   "cell_type": "code",
   "execution_count": 20,
   "id": "7d8795c6",
   "metadata": {
    "execution": {
     "iopub.execute_input": "2024-01-27T18:17:07.220059Z",
     "iopub.status.busy": "2024-01-27T18:17:07.218683Z",
     "iopub.status.idle": "2024-01-27T18:17:07.228737Z",
     "shell.execute_reply": "2024-01-27T18:17:07.227862Z"
    },
    "papermill": {
     "duration": 0.037443,
     "end_time": "2024-01-27T18:17:07.231033",
     "exception": false,
     "start_time": "2024-01-27T18:17:07.193590",
     "status": "completed"
    },
    "tags": []
   },
   "outputs": [],
   "source": [
    "from sklearn.model_selection import train_test_split\n",
    "X_train, X_test, y_train, y_test = train_test_split(X_undersampled,y_undersampled, test_size = 0.25, random_state=42)"
   ]
  },
  {
   "cell_type": "markdown",
   "id": "3a9f3150",
   "metadata": {
    "papermill": {
     "duration": 0.019514,
     "end_time": "2024-01-27T18:17:07.270483",
     "exception": false,
     "start_time": "2024-01-27T18:17:07.250969",
     "status": "completed"
    },
    "tags": []
   },
   "source": [
    "# Data Modeling"
   ]
  },
  {
   "cell_type": "markdown",
   "id": "6b0d4680",
   "metadata": {
    "papermill": {
     "duration": 0.019562,
     "end_time": "2024-01-27T18:17:07.309944",
     "exception": false,
     "start_time": "2024-01-27T18:17:07.290382",
     "status": "completed"
    },
    "tags": []
   },
   "source": [
    "# Logistic Regression"
   ]
  },
  {
   "cell_type": "code",
   "execution_count": 21,
   "id": "42b74a69",
   "metadata": {
    "execution": {
     "iopub.execute_input": "2024-01-27T18:17:07.352204Z",
     "iopub.status.busy": "2024-01-27T18:17:07.351424Z",
     "iopub.status.idle": "2024-01-27T18:17:07.403877Z",
     "shell.execute_reply": "2024-01-27T18:17:07.402773Z"
    },
    "papermill": {
     "duration": 0.077957,
     "end_time": "2024-01-27T18:17:07.407672",
     "exception": false,
     "start_time": "2024-01-27T18:17:07.329715",
     "status": "completed"
    },
    "tags": []
   },
   "outputs": [
    {
     "data": {
      "text/html": [
       "<style>#sk-container-id-1 {color: black;background-color: white;}#sk-container-id-1 pre{padding: 0;}#sk-container-id-1 div.sk-toggleable {background-color: white;}#sk-container-id-1 label.sk-toggleable__label {cursor: pointer;display: block;width: 100%;margin-bottom: 0;padding: 0.3em;box-sizing: border-box;text-align: center;}#sk-container-id-1 label.sk-toggleable__label-arrow:before {content: \"▸\";float: left;margin-right: 0.25em;color: #696969;}#sk-container-id-1 label.sk-toggleable__label-arrow:hover:before {color: black;}#sk-container-id-1 div.sk-estimator:hover label.sk-toggleable__label-arrow:before {color: black;}#sk-container-id-1 div.sk-toggleable__content {max-height: 0;max-width: 0;overflow: hidden;text-align: left;background-color: #f0f8ff;}#sk-container-id-1 div.sk-toggleable__content pre {margin: 0.2em;color: black;border-radius: 0.25em;background-color: #f0f8ff;}#sk-container-id-1 input.sk-toggleable__control:checked~div.sk-toggleable__content {max-height: 200px;max-width: 100%;overflow: auto;}#sk-container-id-1 input.sk-toggleable__control:checked~label.sk-toggleable__label-arrow:before {content: \"▾\";}#sk-container-id-1 div.sk-estimator input.sk-toggleable__control:checked~label.sk-toggleable__label {background-color: #d4ebff;}#sk-container-id-1 div.sk-label input.sk-toggleable__control:checked~label.sk-toggleable__label {background-color: #d4ebff;}#sk-container-id-1 input.sk-hidden--visually {border: 0;clip: rect(1px 1px 1px 1px);clip: rect(1px, 1px, 1px, 1px);height: 1px;margin: -1px;overflow: hidden;padding: 0;position: absolute;width: 1px;}#sk-container-id-1 div.sk-estimator {font-family: monospace;background-color: #f0f8ff;border: 1px dotted black;border-radius: 0.25em;box-sizing: border-box;margin-bottom: 0.5em;}#sk-container-id-1 div.sk-estimator:hover {background-color: #d4ebff;}#sk-container-id-1 div.sk-parallel-item::after {content: \"\";width: 100%;border-bottom: 1px solid gray;flex-grow: 1;}#sk-container-id-1 div.sk-label:hover label.sk-toggleable__label {background-color: #d4ebff;}#sk-container-id-1 div.sk-serial::before {content: \"\";position: absolute;border-left: 1px solid gray;box-sizing: border-box;top: 0;bottom: 0;left: 50%;z-index: 0;}#sk-container-id-1 div.sk-serial {display: flex;flex-direction: column;align-items: center;background-color: white;padding-right: 0.2em;padding-left: 0.2em;position: relative;}#sk-container-id-1 div.sk-item {position: relative;z-index: 1;}#sk-container-id-1 div.sk-parallel {display: flex;align-items: stretch;justify-content: center;background-color: white;position: relative;}#sk-container-id-1 div.sk-item::before, #sk-container-id-1 div.sk-parallel-item::before {content: \"\";position: absolute;border-left: 1px solid gray;box-sizing: border-box;top: 0;bottom: 0;left: 50%;z-index: -1;}#sk-container-id-1 div.sk-parallel-item {display: flex;flex-direction: column;z-index: 1;position: relative;background-color: white;}#sk-container-id-1 div.sk-parallel-item:first-child::after {align-self: flex-end;width: 50%;}#sk-container-id-1 div.sk-parallel-item:last-child::after {align-self: flex-start;width: 50%;}#sk-container-id-1 div.sk-parallel-item:only-child::after {width: 0;}#sk-container-id-1 div.sk-dashed-wrapped {border: 1px dashed gray;margin: 0 0.4em 0.5em 0.4em;box-sizing: border-box;padding-bottom: 0.4em;background-color: white;}#sk-container-id-1 div.sk-label label {font-family: monospace;font-weight: bold;display: inline-block;line-height: 1.2em;}#sk-container-id-1 div.sk-label-container {text-align: center;}#sk-container-id-1 div.sk-container {/* jupyter's `normalize.less` sets `[hidden] { display: none; }` but bootstrap.min.css set `[hidden] { display: none !important; }` so we also need the `!important` here to be able to override the default hidden behavior on the sphinx rendered scikit-learn.org. See: https://github.com/scikit-learn/scikit-learn/issues/21755 */display: inline-block !important;position: relative;}#sk-container-id-1 div.sk-text-repr-fallback {display: none;}</style><div id=\"sk-container-id-1\" class=\"sk-top-container\"><div class=\"sk-text-repr-fallback\"><pre>LogisticRegression()</pre><b>In a Jupyter environment, please rerun this cell to show the HTML representation or trust the notebook. <br />On GitHub, the HTML representation is unable to render, please try loading this page with nbviewer.org.</b></div><div class=\"sk-container\" hidden><div class=\"sk-item\"><div class=\"sk-estimator sk-toggleable\"><input class=\"sk-toggleable__control sk-hidden--visually\" id=\"sk-estimator-id-1\" type=\"checkbox\" checked><label for=\"sk-estimator-id-1\" class=\"sk-toggleable__label sk-toggleable__label-arrow\">LogisticRegression</label><div class=\"sk-toggleable__content\"><pre>LogisticRegression()</pre></div></div></div></div></div>"
      ],
      "text/plain": [
       "LogisticRegression()"
      ]
     },
     "execution_count": 21,
     "metadata": {},
     "output_type": "execute_result"
    }
   ],
   "source": [
    "from sklearn.linear_model import LogisticRegression\n",
    "model = LogisticRegression()\n",
    "model.fit(X_train, y_train)"
   ]
  },
  {
   "cell_type": "code",
   "execution_count": 22,
   "id": "6092727c",
   "metadata": {
    "execution": {
     "iopub.execute_input": "2024-01-27T18:17:07.498696Z",
     "iopub.status.busy": "2024-01-27T18:17:07.497601Z",
     "iopub.status.idle": "2024-01-27T18:17:07.533047Z",
     "shell.execute_reply": "2024-01-27T18:17:07.531754Z"
    },
    "papermill": {
     "duration": 0.08393,
     "end_time": "2024-01-27T18:17:07.535426",
     "exception": false,
     "start_time": "2024-01-27T18:17:07.451496",
     "status": "completed"
    },
    "tags": []
   },
   "outputs": [
    {
     "name": "stdout",
     "output_type": "stream",
     "text": [
      "Accuracy: 0.9409282700421941\n",
      "F1 Score: 0.9409345802255681\n",
      "Precision: 0.9421475578770925\n",
      "Recall: 0.9409282700421941\n",
      "Classification Report:\n",
      "              precision    recall  f1-score   support\n",
      "\n",
      "           0       0.92      0.97      0.94       115\n",
      "           1       0.97      0.92      0.94       122\n",
      "\n",
      "    accuracy                           0.94       237\n",
      "   macro avg       0.94      0.94      0.94       237\n",
      "weighted avg       0.94      0.94      0.94       237\n",
      "\n"
     ]
    }
   ],
   "source": [
    "from sklearn.metrics import accuracy_score, f1_score,precision_score, recall_score, classification_report\n",
    "# Make predictions on the test set\n",
    "y_pred = model.predict(X_test)\n",
    "# Evaluate the model with  accuracy, F1 score, precision and recall\n",
    "accuracy = accuracy_score(y_test, y_pred)\n",
    "f1 = f1_score(y_test, y_pred, average='weighted')\n",
    "precision = precision_score(y_test, y_pred, average='weighted')\n",
    "recall = recall_score(y_test, y_pred, average='weighted')\n",
    "classifcation_report_logistic = classification_report(y_test, y_pred)\n",
    "print(\"Accuracy:\", accuracy)\n",
    "print(\"F1 Score:\", f1)\n",
    "print(\"Precision:\", precision)\n",
    "print(\"Recall:\", recall)\n",
    "print(\"Classification Report:\")\n",
    "print(classifcation_report_logistic)"
   ]
  },
  {
   "cell_type": "markdown",
   "id": "04cd5f86",
   "metadata": {
    "papermill": {
     "duration": 0.020294,
     "end_time": "2024-01-27T18:17:07.576326",
     "exception": false,
     "start_time": "2024-01-27T18:17:07.556032",
     "status": "completed"
    },
    "tags": []
   },
   "source": [
    "# confusion matrix for model performance assessment"
   ]
  },
  {
   "cell_type": "code",
   "execution_count": 23,
   "id": "f59a7690",
   "metadata": {
    "execution": {
     "iopub.execute_input": "2024-01-27T18:17:07.619681Z",
     "iopub.status.busy": "2024-01-27T18:17:07.618959Z",
     "iopub.status.idle": "2024-01-27T18:17:07.860221Z",
     "shell.execute_reply": "2024-01-27T18:17:07.859049Z"
    },
    "papermill": {
     "duration": 0.265991,
     "end_time": "2024-01-27T18:17:07.862897",
     "exception": false,
     "start_time": "2024-01-27T18:17:07.596906",
     "status": "completed"
    },
    "tags": []
   },
   "outputs": [
    {
     "data": {
      "image/png": "[encoded data removed]",
      "text/plain": [
       "<Figure size 800x600 with 1 Axes>"
      ]
     },
     "metadata": {},
     "output_type": "display_data"
    }
   ],
   "source": [
    "from sklearn.metrics import confusion_matrix, ConfusionMatrixDisplay\n",
    "\n",
    "cm = confusion_matrix(y_test, y_pred)\n",
    "# Create a heatmap to visualize the confusion matrix\n",
    "plt.figure(figsize=(8, 6))\n",
    "sns.set(font_scale=1.2)\n",
    "sns.heatmap(cm, annot=True, fmt=\"d\", cmap=\"Blues\", annot_kws={\"size\": 16}, cbar=False, square=True)\n",
    "\n",
    "# Add labels and titles\n",
    "plt.xlabel('Predicted Labels')\n",
    "plt.ylabel('True Labels')\n",
    "plt.title('Confusion Matrix')\n",
    "\n",
    "# Show the plot\n",
    "plt.show()"
   ]
  },
  {
   "cell_type": "markdown",
   "id": "d1f12da2",
   "metadata": {
    "papermill": {
     "duration": 0.020885,
     "end_time": "2024-01-27T18:17:07.904685",
     "exception": false,
     "start_time": "2024-01-27T18:17:07.883800",
     "status": "completed"
    },
    "tags": []
   },
   "source": [
    "#  Decision Tree"
   ]
  },
  {
   "cell_type": "code",
   "execution_count": 24,
   "id": "b0bf2560",
   "metadata": {
    "execution": {
     "iopub.execute_input": "2024-01-27T18:17:07.948113Z",
     "iopub.status.busy": "2024-01-27T18:17:07.947709Z",
     "iopub.status.idle": "2024-01-27T18:17:08.214214Z",
     "shell.execute_reply": "2024-01-27T18:17:08.213088Z"
    },
    "papermill": {
     "duration": 0.291453,
     "end_time": "2024-01-27T18:17:08.216986",
     "exception": false,
     "start_time": "2024-01-27T18:17:07.925533",
     "status": "completed"
    },
    "tags": []
   },
   "outputs": [
    {
     "name": "stdout",
     "output_type": "stream",
     "text": [
      "Accuracy: 0.9493670886075949\n",
      "F1 Score: 0.9493598769694532\n",
      "Precision: 0.9515192220543125\n",
      "Recall: 0.9493670886075949\n",
      "Classification Report:\n",
      "              precision    recall  f1-score   support\n",
      "\n",
      "           0       0.92      0.98      0.95       115\n",
      "           1       0.98      0.92      0.95       122\n",
      "\n",
      "    accuracy                           0.95       237\n",
      "   macro avg       0.95      0.95      0.95       237\n",
      "weighted avg       0.95      0.95      0.95       237\n",
      "\n"
     ]
    },
    {
     "data": {
      "image/png": "[encoded data removed]",
      "text/plain": [
       "<Figure size 800x600 with 1 Axes>"
      ]
     },
     "metadata": {},
     "output_type": "display_data"
    }
   ],
   "source": [
    "from sklearn.tree import DecisionTreeClassifier\n",
    "# Initialize Decision Tree Classifier\n",
    "tree = DecisionTreeClassifier(max_depth=3,random_state=42)\n",
    "# Train the model\n",
    "tree.fit(X_train,y_train)\n",
    "# Make predictions on the test set\n",
    "y_prediction_tree = tree.predict(X_test)\n",
    "# Evaluate the model with  accuracy, F1 score, precision and recall\n",
    "accuracy = accuracy_score(y_test, y_prediction_tree)\n",
    "f1 = f1_score(y_test, y_prediction_tree, average='weighted')\n",
    "precision = precision_score(y_test,y_prediction_tree, average='weighted')\n",
    "recall = recall_score(y_test, y_prediction_tree, average='weighted')\n",
    "classifcation_report_ = classification_report(y_test, y_prediction_tree)\n",
    "print(\"Accuracy:\", accuracy)\n",
    "print(\"F1 Score:\", f1)\n",
    "print(\"Precision:\", precision)\n",
    "print(\"Recall:\", recall)\n",
    "print(\"Classification Report:\")\n",
    "print(classifcation_report_)\n",
    "# confusion matrix for model performance assessment\n",
    "cm = confusion_matrix(y_test,y_prediction_tree)\n",
    "# Create a heatmap to visualize the confusion matrix\n",
    "plt.figure(figsize=(8, 6))\n",
    "sns.set(font_scale=1.2)\n",
    "sns.heatmap(cm, annot=True, fmt=\"d\", cmap=\"Blues\", annot_kws={\"size\": 16}, cbar=False, square=True)\n",
    "# Add labels and titles\n",
    "plt.xlabel('Predicted Labels')\n",
    "plt.ylabel('True Labels')\n",
    "plt.title('Confusion Matrix')\n",
    "# Show the plot\n",
    "plt.show()"
   ]
  },
  {
   "cell_type": "markdown",
   "id": "85148c41",
   "metadata": {
    "papermill": {
     "duration": 0.021112,
     "end_time": "2024-01-27T18:17:08.259908",
     "exception": false,
     "start_time": "2024-01-27T18:17:08.238796",
     "status": "completed"
    },
    "tags": []
   },
   "source": [
    "# Random Forest"
   ]
  },
  {
   "cell_type": "code",
   "execution_count": 25,
   "id": "ffdfb00d",
   "metadata": {
    "execution": {
     "iopub.execute_input": "2024-01-27T18:17:08.304580Z",
     "iopub.status.busy": "2024-01-27T18:17:08.304194Z",
     "iopub.status.idle": "2024-01-27T18:17:08.953052Z",
     "shell.execute_reply": "2024-01-27T18:17:08.951758Z"
    },
    "papermill": {
     "duration": 0.67426,
     "end_time": "2024-01-27T18:17:08.955631",
     "exception": false,
     "start_time": "2024-01-27T18:17:08.281371",
     "status": "completed"
    },
    "tags": []
   },
   "outputs": [
    {
     "name": "stdout",
     "output_type": "stream",
     "text": [
      "Accuracy: 0.9535864978902954\n",
      "F1 Score: 0.9535864978902954\n",
      "Precision: 0.9552517059585998\n",
      "Recall: 0.9535864978902954\n",
      "Classification Report:\n",
      "              precision    recall  f1-score   support\n",
      "\n",
      "           0       0.93      0.98      0.95       115\n",
      "           1       0.98      0.93      0.95       122\n",
      "\n",
      "    accuracy                           0.95       237\n",
      "   macro avg       0.95      0.95      0.95       237\n",
      "weighted avg       0.96      0.95      0.95       237\n",
      "\n"
     ]
    },
    {
     "data": {
      "image/png": "[encoded data removed]",
      "text/plain": [
       "<Figure size 800x600 with 1 Axes>"
      ]
     },
     "metadata": {},
     "output_type": "display_data"
    }
   ],
   "source": [
    "from sklearn.ensemble import RandomForestClassifier\n",
    "# Initialize RandomFores Classifier\n",
    "rf = RandomForestClassifier(random_state=42)\n",
    "# train the model\n",
    "rf.fit(X_train,y_train)\n",
    "# Make predictions on the test set\n",
    "y_pred_rf = rf.predict(X_test)\n",
    "# Evaluate the model with  accuracy, F1 score, precision and recall\n",
    "accuracy = accuracy_score(y_test,y_pred_rf)\n",
    "f1 = f1_score(y_test, y_pred_rf, average='weighted')\n",
    "precision = precision_score(y_test,y_pred_rf, average='weighted')\n",
    "recall = recall_score(y_test, y_pred_rf, average='weighted')\n",
    "classifcation_report_ = classification_report(y_test, y_pred_rf)\n",
    "print(\"Accuracy:\", accuracy)\n",
    "print(\"F1 Score:\", f1)\n",
    "print(\"Precision:\", precision)\n",
    "print(\"Recall:\", recall)\n",
    "print(\"Classification Report:\")\n",
    "print(classifcation_report_)\n",
    "# confusion matrix for model performance assessment\n",
    "cm = confusion_matrix(y_test,y_pred_rf)\n",
    "# Create a heatmap to visualize the confusion matrix\n",
    "plt.figure(figsize=(8, 6))\n",
    "sns.set(font_scale=1.2)\n",
    "sns.heatmap(cm, annot=True, fmt=\"d\", cmap=\"Blues\", annot_kws={\"size\": 16}, cbar=False, square=True)\n",
    "# Add labels and titles\n",
    "plt.xlabel('Predicted Labels')\n",
    "plt.ylabel('True Labels')\n",
    "plt.title('Confusion Matrix')\n",
    "# Show the plot\n",
    "plt.show()"
   ]
  },
  {
   "cell_type": "markdown",
   "id": "184ca8ea",
   "metadata": {
    "papermill": {
     "duration": 0.021476,
     "end_time": "2024-01-27T18:17:08.998717",
     "exception": false,
     "start_time": "2024-01-27T18:17:08.977241",
     "status": "completed"
    },
    "tags": []
   },
   "source": [
    "# xgboost"
   ]
  },
  {
   "cell_type": "code",
   "execution_count": 26,
   "id": "5fc69983",
   "metadata": {
    "execution": {
     "iopub.execute_input": "2024-01-27T18:17:09.044267Z",
     "iopub.status.busy": "2024-01-27T18:17:09.043863Z",
     "iopub.status.idle": "2024-01-27T18:17:09.822929Z",
     "shell.execute_reply": "2024-01-27T18:17:09.821788Z"
    },
    "papermill": {
     "duration": 0.804528,
     "end_time": "2024-01-27T18:17:09.825144",
     "exception": false,
     "start_time": "2024-01-27T18:17:09.020616",
     "status": "completed"
    },
    "tags": []
   },
   "outputs": [
    {
     "name": "stdout",
     "output_type": "stream",
     "text": [
      "Accuracy: 0.9493670886075949\n",
      "F1 Score: 0.9493598769694532\n",
      "Precision: 0.9515192220543125\n",
      "Recall: 0.9493670886075949\n",
      "Classification Report:\n",
      "              precision    recall  f1-score   support\n",
      "\n",
      "           0       0.92      0.98      0.95       115\n",
      "           1       0.98      0.92      0.95       122\n",
      "\n",
      "    accuracy                           0.95       237\n",
      "   macro avg       0.95      0.95      0.95       237\n",
      "weighted avg       0.95      0.95      0.95       237\n",
      "\n"
     ]
    },
    {
     "data": {
      "image/png": "[encoded data removed]",
      "text/plain": [
       "<Figure size 800x600 with 1 Axes>"
      ]
     },
     "metadata": {},
     "output_type": "display_data"
    }
   ],
   "source": [
    "import xgboost as xgb\n",
    "from xgboost import XGBClassifier\n",
    "# Initialize xgb Classifier\n",
    "xgb_classifier = xgb.XGBClassifier ( n_estimators=200,learning_rate=0.1, max_depth=7,random_state=42)\n",
    "xgb_classifier.fit(X_train,y_train)\n",
    "# Make predictions on the testing data\n",
    "y_pred_xgb = xgb_classifier.predict(X_test)\n",
    "# Evaluate the model with  accuracy, F1 score, precision and recall\n",
    "accuracy = accuracy_score(y_test,y_pred_xgb)\n",
    "f1 = f1_score(y_test, y_pred_xgb, average='weighted')\n",
    "precision = precision_score(y_test,y_pred_xgb, average='weighted')\n",
    "recall = recall_score(y_test, y_pred_xgb, average='weighted')\n",
    "classifcation_report_ = classification_report(y_test, y_pred_xgb)\n",
    "print(\"Accuracy:\", accuracy)\n",
    "print(\"F1 Score:\", f1)\n",
    "print(\"Precision:\", precision)\n",
    "print(\"Recall:\", recall)\n",
    "print(\"Classification Report:\")\n",
    "print(classifcation_report_)\n",
    "# confusion matrix for model performance assessment\n",
    "cm = confusion_matrix(y_test,y_pred_xgb)\n",
    "# Create a heatmap to visualize the confusion matrix\n",
    "plt.figure(figsize=(8, 6))\n",
    "sns.set(font_scale=1.2)\n",
    "sns.heatmap(cm, annot=True, fmt=\"d\", cmap=\"Blues\", annot_kws={\"size\": 16}, cbar=False, square=True)\n",
    "# Add labels and titles\n",
    "plt.xlabel('Predicted Labels')\n",
    "plt.ylabel('True Labels')\n",
    "plt.title('Confusion Matrix')\n",
    "# Show the plot\n",
    "plt.show()"
   ]
  },
  {
   "cell_type": "markdown",
   "id": "d1ba982e",
   "metadata": {
    "papermill": {
     "duration": 0.022037,
     "end_time": "2024-01-27T18:17:09.869585",
     "exception": false,
     "start_time": "2024-01-27T18:17:09.847548",
     "status": "completed"
    },
    "tags": []
   },
   "source": [
    "# SVM"
   ]
  },
  {
   "cell_type": "code",
   "execution_count": 27,
   "id": "419f9e83",
   "metadata": {
    "execution": {
     "iopub.execute_input": "2024-01-27T18:17:09.916586Z",
     "iopub.status.busy": "2024-01-27T18:17:09.916160Z",
     "iopub.status.idle": "2024-01-27T18:17:10.191764Z",
     "shell.execute_reply": "2024-01-27T18:17:10.190740Z"
    },
    "papermill": {
     "duration": 0.30265,
     "end_time": "2024-01-27T18:17:10.194446",
     "exception": false,
     "start_time": "2024-01-27T18:17:09.891796",
     "status": "completed"
    },
    "tags": []
   },
   "outputs": [
    {
     "name": "stdout",
     "output_type": "stream",
     "text": [
      "Accuracy: 0.9367088607594937\n",
      "F1 Score: 0.9366592675030945\n",
      "Precision: 0.9406612761043142\n",
      "Recall: 0.9367088607594937\n",
      "Classification Report:\n",
      "              precision    recall  f1-score   support\n",
      "\n",
      "           0       0.90      0.98      0.94       115\n",
      "           1       0.98      0.89      0.94       122\n",
      "\n",
      "    accuracy                           0.94       237\n",
      "   macro avg       0.94      0.94      0.94       237\n",
      "weighted avg       0.94      0.94      0.94       237\n",
      "\n"
     ]
    },
    {
     "data": {
      "image/png": "[encoded data removed]",
      "text/plain": [
       "<Figure size 800x600 with 1 Axes>"
      ]
     },
     "metadata": {},
     "output_type": "display_data"
    }
   ],
   "source": [
    "from sklearn.svm import SVC\n",
    "# Initialize SVM Classifier\n",
    "svm_classifier = SVC( kernel='rbf', random_state=42)\n",
    "# Train the SVM classifier on the training data\n",
    "svm_classifier.fit(X_train,y_train)\n",
    "# Make predictions on the testing data\n",
    "y_pred_svm = svm_classifier.predict(X_test)\n",
    "# Evaluate the model with  accuracy, F1 score, precision and recall\n",
    "accuracy = accuracy_score(y_test,y_pred_svm)\n",
    "f1 = f1_score(y_test, y_pred_svm, average='weighted')\n",
    "precision = precision_score(y_test,y_pred_svm, average='weighted')\n",
    "recall = recall_score(y_test, y_pred_svm, average='weighted')\n",
    "classifcation_report_ = classification_report(y_test, y_pred_svm)\n",
    "print(\"Accuracy:\", accuracy)\n",
    "print(\"F1 Score:\", f1)\n",
    "print(\"Precision:\", precision)\n",
    "print(\"Recall:\", recall)\n",
    "print(\"Classification Report:\")\n",
    "print(classifcation_report_)\n",
    "# confusion matrix for model performance assessment\n",
    "cm = confusion_matrix(y_test,y_pred_svm)\n",
    "# Create a heatmap to visualize the confusion matrix\n",
    "plt.figure(figsize=(8, 6))\n",
    "sns.set(font_scale=1.2)\n",
    "sns.heatmap(cm, annot=True, fmt=\"d\", cmap=\"Blues\", annot_kws={\"size\": 16}, cbar=False, square=True)\n",
    "# Add labels and titles\n",
    "plt.xlabel('Predicted Labels')\n",
    "plt.ylabel('True Labels')\n",
    "plt.title('Confusion Matrix')\n",
    "# Show the plot\n",
    "plt.show()"
   ]
  }
 ],
 "metadata": {
  "kaggle": {
   "accelerator": "none",
   "dataSources": [
    {
     "datasetId": 310,
     "sourceId": 23498,
     "sourceType": "datasetVersion"
    }
   ],
   "dockerImageVersionId": 30635,
   "isGpuEnabled": false,
   "isInternetEnabled": false,
   "language": "python",
   "sourceType": "notebook"
  },
  "kernelspec": {
   "display_name": "Python 3",
   "language": "python",
   "name": "python3"
  },
  "language_info": {
   "codemirror_mode": {
    "name": "ipython",
    "version": 3
   },
   "file_extension": ".py",
   "mimetype": "text/x-python",
   "name": "python",
   "nbconvert_exporter": "python",
   "pygments_lexer": "ipython3",
   "version": "3.10.12"
  },
  "papermill": {
   "default_parameters": {},
   "duration": 29.459608,
   "end_time": "2024-01-27T18:17:10.939175",
   "environment_variables": {},
   "exception": null,
   "input_path": "__notebook__.ipynb",
   "output_path": "__notebook__.ipynb",
   "parameters": {},
   "start_time": "2024-01-27T18:16:41.479567",
   "version": "2.4.0"
  }
 },
 "nbformat": 4,
 "nbformat_minor": 5
}
